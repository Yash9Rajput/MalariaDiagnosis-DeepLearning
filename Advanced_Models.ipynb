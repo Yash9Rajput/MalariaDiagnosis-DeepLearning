{
 "cells": [
  {
   "cell_type": "markdown",
   "id": "5f6846ee",
   "metadata": {},
   "source": [
    "# Build More Advanced Models with TensorFlow(MALARIA DIAGNOSIS)"
   ]
  },
  {
   "cell_type": "markdown",
   "id": "468d1a11",
   "metadata": {},
   "source": [
    "** Ways to build models are :\n",
    "    using sequential Api , \n",
    "    using functional Api , \n",
    "    using subclassing **"
   ]
  },
  {
   "cell_type": "markdown",
   "id": "23233c54",
   "metadata": {},
   "source": [
    "**FUNCTIONAL API**"
   ]
  },
  {
   "cell_type": "code",
   "execution_count": 1,
   "id": "ded27d9c",
   "metadata": {},
   "outputs": [
    {
     "name": "stderr",
     "output_type": "stream",
     "text": [
      "c:\\Users\\asus\\Documents\\dl_cv_tensorflow\\.venv\\Lib\\site-packages\\tqdm\\auto.py:21: TqdmWarning: IProgress not found. Please update jupyter and ipywidgets. See https://ipywidgets.readthedocs.io/en/stable/user_install.html\n",
      "  from .autonotebook import tqdm as notebook_tqdm\n"
     ]
    }
   ],
   "source": [
    "import tensorflow as tf\n",
    "import tensorflow_datasets as tfds\n",
    "from tensorflow.keras.layers import Layer\n",
    "from tensorflow.keras.layers import Input, Conv2D, MaxPool2D, Flatten, Dense, BatchNormalization , InputLayer\n",
    "from tensorflow.keras.models import Model\n",
    "from tensorflow.keras.optimizers import Adam\n",
    "from tensorflow.keras.losses import SparseCategoricalCrossentropy\n"
   ]
  },
  {
   "cell_type": "code",
   "execution_count": 2,
   "id": "14ad248a",
   "metadata": {},
   "outputs": [
    {
     "name": "stdout",
     "output_type": "stream",
     "text": [
      "Model: \"Feature_Extractor\"\n",
      "_________________________________________________________________\n",
      " Layer (type)                Output Shape              Param #   \n",
      "=================================================================\n",
      " Input Image (InputLayer)    [(None, 224, 224, 3)]     0         \n",
      "                                                                 \n",
      " conv2d (Conv2D)             (None, 222, 222, 6)       168       \n",
      "                                                                 \n",
      " batch_normalization (Batch  (None, 222, 222, 6)       24        \n",
      " Normalization)                                                  \n",
      "                                                                 \n",
      " max_pooling2d (MaxPooling2  (None, 111, 111, 6)       0         \n",
      " D)                                                              \n",
      "                                                                 \n",
      " conv2d_1 (Conv2D)           (None, 109, 109, 16)      880       \n",
      "                                                                 \n",
      " batch_normalization_1 (Bat  (None, 109, 109, 16)      64        \n",
      " chNormalization)                                                \n",
      "                                                                 \n",
      " max_pooling2d_1 (MaxPoolin  (None, 54, 54, 16)        0         \n",
      " g2D)                                                            \n",
      "                                                                 \n",
      "=================================================================\n",
      "Total params: 1136 (4.44 KB)\n",
      "Trainable params: 1092 (4.27 KB)\n",
      "Non-trainable params: 44 (176.00 Byte)\n",
      "_________________________________________________________________\n"
     ]
    }
   ],
   "source": [
    "# CREATING FUNCTIONAL MODEL USING FEATURE EXTRACTOR\n",
    "IM_SIZE = 224\n",
    "\n",
    "func_input = Input(shape = (IM_SIZE , IM_SIZE , 3) , name = \"Input Image\")\n",
    "\n",
    "                            \n",
    "x = Conv2D(filters = 6 , kernel_size = 3 , strides = 1 , padding = \"valid\" , activation = \"relu\")(func_input)\n",
    "x = BatchNormalization()(x)\n",
    "x = MaxPool2D(pool_size= 2 , strides = 2)(x)\n",
    "                            \n",
    "x = Conv2D(filters = 16 , kernel_size = 3 , strides = 1 , padding = \"valid\" ,activation = \"relu\")(x)                                                      \n",
    "x = BatchNormalization()(x)\n",
    "output = MaxPool2D(pool_size= 2 , strides = 2)(x)\n",
    "                            \n",
    "                                                \n",
    "feature_extractor_model = Model(func_input , output , name = \"Feature_Extractor\")\n",
    "feature_extractor_model.summary()"
   ]
  },
  {
   "cell_type": "code",
   "execution_count": 3,
   "id": "7a746d8a",
   "metadata": {},
   "outputs": [
    {
     "name": "stdout",
     "output_type": "stream",
     "text": [
      "Model: \"Lenet_Model_FUNCTIONAL WITH FEATURE_EXTRACTOR\"\n",
      "_________________________________________________________________\n",
      " Layer (type)                Output Shape              Param #   \n",
      "=================================================================\n",
      " Input Image (InputLayer)    [(None, 224, 224, 3)]     0         \n",
      "                                                                 \n",
      " Feature_Extractor (Functio  (None, 54, 54, 16)        1136      \n",
      " nal)                                                            \n",
      "                                                                 \n",
      " flatten (Flatten)           (None, 46656)             0         \n",
      "                                                                 \n",
      " dense (Dense)               (None, 1000)              46657000  \n",
      "                                                                 \n",
      " batch_normalization_2 (Bat  (None, 1000)              4000      \n",
      " chNormalization)                                                \n",
      "                                                                 \n",
      " dense_1 (Dense)             (None, 100)               100100    \n",
      "                                                                 \n",
      " batch_normalization_3 (Bat  (None, 100)               400       \n",
      " chNormalization)                                                \n",
      "                                                                 \n",
      " dense_2 (Dense)             (None, 1)                 101       \n",
      "                                                                 \n",
      "=================================================================\n",
      "Total params: 46762737 (178.39 MB)\n",
      "Trainable params: 46760493 (178.38 MB)\n",
      "Non-trainable params: 2244 (8.77 KB)\n",
      "_________________________________________________________________\n"
     ]
    }
   ],
   "source": [
    "# AND CALLING FEATURE EXTRACTOR IN SEQUENTIAL MODEL AND GETTING FUNCTIONAL API MODEL\n",
    "\n",
    "IM_SIZE = 224\n",
    "func_input = Input(shape = (IM_SIZE , IM_SIZE , 3) , name = \"Input Image\")\n",
    "\n",
    "x = feature_extractor_model(func_input)  #call here \n",
    "\n",
    "x = Flatten()(x)                            \n",
    "                            \n",
    "x = Dense(1000 , activation = \"relu\")(x)\n",
    "x = BatchNormalization()(x)\n",
    "\n",
    "x = Dense(100 , activation = \"relu\")(x)\n",
    "x = BatchNormalization()(x)\n",
    "\n",
    "func_output = Dense(1 , activation = \"sigmoid\")(x)\n",
    "                            \n",
    "lenet_model_func_api = Model(func_input , func_output , name = \"Lenet_Model_FUNCTIONAL WITH FEATURE_EXTRACTOR\")\n",
    "lenet_model_func_api.summary()"
   ]
  },
  {
   "cell_type": "code",
   "execution_count": 4,
   "id": "61506b49",
   "metadata": {},
   "outputs": [
    {
     "name": "stdout",
     "output_type": "stream",
     "text": [
      "Model: \"Lenet_Model_FUNCTIONAL  WITHOUT_FEATURE_EXTRACTOR\"\n",
      "_________________________________________________________________\n",
      " Layer (type)                Output Shape              Param #   \n",
      "=================================================================\n",
      " Input Image (InputLayer)    [(None, 224, 224, 3)]     0         \n",
      "                                                                 \n",
      " conv2d_2 (Conv2D)           (None, 222, 222, 6)       168       \n",
      "                                                                 \n",
      " batch_normalization_4 (Bat  (None, 222, 222, 6)       24        \n",
      " chNormalization)                                                \n",
      "                                                                 \n",
      " max_pooling2d_2 (MaxPoolin  (None, 111, 111, 6)       0         \n",
      " g2D)                                                            \n",
      "                                                                 \n",
      " conv2d_3 (Conv2D)           (None, 109, 109, 16)      880       \n",
      "                                                                 \n",
      " batch_normalization_5 (Bat  (None, 109, 109, 16)      64        \n",
      " chNormalization)                                                \n",
      "                                                                 \n",
      " max_pooling2d_3 (MaxPoolin  (None, 54, 54, 16)        0         \n",
      " g2D)                                                            \n",
      "                                                                 \n",
      " flatten_1 (Flatten)         (None, 46656)             0         \n",
      "                                                                 \n",
      " dense_3 (Dense)             (None, 1000)              46657000  \n",
      "                                                                 \n",
      " batch_normalization_6 (Bat  (None, 1000)              4000      \n",
      " chNormalization)                                                \n",
      "                                                                 \n",
      " dense_4 (Dense)             (None, 100)               100100    \n",
      "                                                                 \n",
      " batch_normalization_7 (Bat  (None, 100)               400       \n",
      " chNormalization)                                                \n",
      "                                                                 \n",
      " dense_5 (Dense)             (None, 1)                 101       \n",
      "                                                                 \n",
      "=================================================================\n",
      "Total params: 46762737 (178.39 MB)\n",
      "Trainable params: 46760493 (178.38 MB)\n",
      "Non-trainable params: 2244 (8.77 KB)\n",
      "_________________________________________________________________\n"
     ]
    }
   ],
   "source": [
    "# WITHOUT FEATURE EXTRACTOR NORMAL FUNCTIONAL MODEL\n",
    "IM_SIZE = 224\n",
    "func_input = Input(shape = (IM_SIZE , IM_SIZE , 3) , name = \"Input Image\")\n",
    "\n",
    "                            \n",
    "x = Conv2D(filters = 6 , kernel_size = 3 , strides = 1 , padding = \"valid\" , activation = \"relu\")(func_input)\n",
    "x = BatchNormalization()(x)\n",
    "x = MaxPool2D(pool_size= 2 , strides = 2)(x)\n",
    "                            \n",
    "x = Conv2D(filters = 16 , kernel_size = 3 , strides = 1 , padding = \"valid\" ,activation = \"relu\")(x)                                                      \n",
    "x = BatchNormalization()(x)\n",
    "x = MaxPool2D(pool_size= 2 , strides = 2)(x)\n",
    "                            \n",
    "x = Flatten()(x)\n",
    "                            \n",
    "x = Dense(1000 , activation = \"relu\")(x)\n",
    "x = BatchNormalization()(x)\n",
    "\n",
    "x = Dense(100 , activation = \"relu\")(x)\n",
    "x = BatchNormalization()(x)\n",
    "\n",
    "func_output = Dense(1 , activation = \"sigmoid\")(x)\n",
    "                            \n",
    "lenet_model = Model(func_input , func_output , name = \"Lenet_Model_FUNCTIONAL  WITHOUT_FEATURE_EXTRACTOR\")\n",
    "lenet_model.summary()"
   ]
  },
  {
   "cell_type": "code",
   "execution_count": 5,
   "id": "7e68537b",
   "metadata": {},
   "outputs": [
    {
     "name": "stdout",
     "output_type": "stream",
     "text": [
      "Model: \"sequential\"\n",
      "_________________________________________________________________\n",
      " Layer (type)                Output Shape              Param #   \n",
      "=================================================================\n",
      " conv2d_4 (Conv2D)           (None, 222, 222, 6)       168       \n",
      "                                                                 \n",
      " batch_normalization_8 (Bat  (None, 222, 222, 6)       24        \n",
      " chNormalization)                                                \n",
      "                                                                 \n",
      " max_pooling2d_4 (MaxPoolin  (None, 111, 111, 6)       0         \n",
      " g2D)                                                            \n",
      "                                                                 \n",
      " conv2d_5 (Conv2D)           (None, 109, 109, 16)      880       \n",
      "                                                                 \n",
      " batch_normalization_9 (Bat  (None, 109, 109, 16)      64        \n",
      " chNormalization)                                                \n",
      "                                                                 \n",
      " max_pooling2d_5 (MaxPoolin  (None, 54, 54, 16)        0         \n",
      " g2D)                                                            \n",
      "                                                                 \n",
      "=================================================================\n",
      "Total params: 1136 (4.44 KB)\n",
      "Trainable params: 1092 (4.27 KB)\n",
      "Non-trainable params: 44 (176.00 Byte)\n",
      "_________________________________________________________________\n"
     ]
    }
   ],
   "source": [
    "# CREATING SAME SEQUENTIAL MODEL USING FEATURE EXTRACTOR\n",
    "IM_SIZE = 224\n",
    "feature_extractor_seq_model = tf.keras.Sequential([\n",
    "                            InputLayer(input_shape = (IM_SIZE , IM_SIZE , 3)),\n",
    "                            \n",
    "                            Conv2D(filters = 6 , kernel_size = 3 , strides = 1 , padding = \"valid\" , \n",
    "                                   activation = \"relu\"),\n",
    "                            BatchNormalization(),\n",
    "                            MaxPool2D(pool_size= 2 , strides = 2),\n",
    "                            \n",
    "                            Conv2D(filters = 16 , kernel_size = 3 , strides = 1 , padding = \"valid\" , \n",
    "                                   activation = \"relu\"),                                                      \n",
    "                            BatchNormalization(),\n",
    "                            MaxPool2D(pool_size= 2 , strides = 2),\n",
    "\n",
    "])\n",
    "feature_extractor_seq_model.summary()"
   ]
  },
  {
   "cell_type": "code",
   "execution_count": 6,
   "id": "993c4abc",
   "metadata": {},
   "outputs": [
    {
     "name": "stdout",
     "output_type": "stream",
     "text": [
      "Model: \"Lenet_Model_FUNCTIONAL BY FEATURE_EXTRACTOR_SEQUENTIAL_MODEL\"\n",
      "_________________________________________________________________\n",
      " Layer (type)                Output Shape              Param #   \n",
      "=================================================================\n",
      " Input Image (InputLayer)    [(None, 224, 224, 3)]     0         \n",
      "                                                                 \n",
      " sequential (Sequential)     (None, 54, 54, 16)        1136      \n",
      "                                                                 \n",
      " flatten_2 (Flatten)         (None, 46656)             0         \n",
      "                                                                 \n",
      " dense_6 (Dense)             (None, 1000)              46657000  \n",
      "                                                                 \n",
      " batch_normalization_10 (Ba  (None, 1000)              4000      \n",
      " tchNormalization)                                               \n",
      "                                                                 \n",
      " dense_7 (Dense)             (None, 100)               100100    \n",
      "                                                                 \n",
      " batch_normalization_11 (Ba  (None, 100)               400       \n",
      " tchNormalization)                                               \n",
      "                                                                 \n",
      " dense_8 (Dense)             (None, 1)                 101       \n",
      "                                                                 \n",
      "=================================================================\n",
      "Total params: 46762737 (178.39 MB)\n",
      "Trainable params: 46760493 (178.38 MB)\n",
      "Non-trainable params: 2244 (8.77 KB)\n",
      "_________________________________________________________________\n"
     ]
    }
   ],
   "source": [
    "# HERE CALLING FEATURE_EXTRACTOR_SEQ_MODEL AND GETTING FUNCTIONAL MODEL\n",
    "\n",
    "IM_SIZE = 224\n",
    "func_input = Input(shape = (IM_SIZE , IM_SIZE , 3) , name = \"Input Image\")\n",
    "\n",
    "x = feature_extractor_seq_model(func_input)  #call here \n",
    "\n",
    "x = Flatten()(x)                            \n",
    "                            \n",
    "x = Dense(1000 , activation = \"relu\")(x)\n",
    "x = BatchNormalization()(x)\n",
    "\n",
    "x = Dense(100 , activation = \"relu\")(x)\n",
    "x = BatchNormalization()(x)\n",
    "\n",
    "func_output = Dense(1 , activation = \"sigmoid\")(x)\n",
    "                            \n",
    "lenet_model_func_api = Model(func_input , func_output , name = \"Lenet_Model_FUNCTIONAL BY FEATURE_EXTRACTOR_SEQUENTIAL_MODEL\")\n",
    "lenet_model_func_api.summary()"
   ]
  },
  {
   "cell_type": "markdown",
   "id": "f065d8f8",
   "metadata": {},
   "source": [
    "**MODEL SUBCLASSING**"
   ]
  },
  {
   "cell_type": "code",
   "execution_count": 7,
   "id": "aba83900",
   "metadata": {},
   "outputs": [],
   "source": [
    "class FeatureExtractor(Layer):\n",
    "    def __init__(self , filters , kernel_size , strides , padding , activation , pool_size):\n",
    "        super(FeatureExtractor , self).__init__()\n",
    "        \n",
    "        self.conv_1 = Conv2D(filters = filters , kernel_size = kernel_size , strides = strides , padding = padding , activation = activation)\n",
    "        self.batch_1 = BatchNormalization()\n",
    "        self.pool_1 = MaxPool2D(pool_size = pool_size , strides = 2*strides)\n",
    "        \n",
    "        self.conv_2 = Conv2D(filters = filters , kernel_size = kernel_size , strides = strides , padding = padding , activation = activation)\n",
    "        self.batch_2 = BatchNormalization()\n",
    "        self.pool_2 = MaxPool2D(pool_size = pool_size , strides = 2*strides)\n",
    "        \n",
    "    def call(self , x , training):\n",
    "        \n",
    "        x = self.conv_1(x)\n",
    "        x = self.batch_1(x)\n",
    "        x = self.pool_1(x)\n",
    "        \n",
    "        x = self.conv_2(x)\n",
    "        x = self.batch_2(x)\n",
    "        x = self.pool_2(x)\n",
    "        \n",
    "        return x\n",
    "    \n",
    "feature_sub_classed = FeatureExtractor(8 , 3 , 1 , \"valid\" , \"relu\" , 2)\n",
    "        "
   ]
  },
  {
   "cell_type": "code",
   "execution_count": 8,
   "id": "187693ff",
   "metadata": {},
   "outputs": [
    {
     "name": "stdout",
     "output_type": "stream",
     "text": [
      "Model: \"Lenet_Model\"\n",
      "_________________________________________________________________\n",
      " Layer (type)                Output Shape              Param #   \n",
      "=================================================================\n",
      " Input Image (InputLayer)    [(None, 224, 224, 3)]     0         \n",
      "                                                                 \n",
      " feature_extractor (Feature  (None, 54, 54, 8)         872       \n",
      " Extractor)                                                      \n",
      "                                                                 \n",
      " flatten_3 (Flatten)         (None, 23328)             0         \n",
      "                                                                 \n",
      " dense_9 (Dense)             (None, 1000)              23329000  \n",
      "                                                                 \n",
      " batch_normalization_14 (Ba  (None, 1000)              4000      \n",
      " tchNormalization)                                               \n",
      "                                                                 \n",
      " dense_10 (Dense)            (None, 100)               100100    \n",
      "                                                                 \n",
      " batch_normalization_15 (Ba  (None, 100)               400       \n",
      " tchNormalization)                                               \n",
      "                                                                 \n",
      " dense_11 (Dense)            (None, 1)                 101       \n",
      "                                                                 \n",
      "=================================================================\n",
      "Total params: 23434473 (89.40 MB)\n",
      "Trainable params: 23432241 (89.39 MB)\n",
      "Non-trainable params: 2232 (8.72 KB)\n",
      "_________________________________________________________________\n"
     ]
    }
   ],
   "source": [
    "\n",
    "func_input = Input(shape = (IM_SIZE , IM_SIZE , 3) , name = \"Input Image\")\n",
    "\n",
    "x = feature_sub_classed(func_input) \n",
    "\n",
    "x = Flatten()(x)                            \n",
    "                            \n",
    "x = Dense(1000 , activation = \"relu\")(x)\n",
    "x = BatchNormalization()(x)\n",
    "\n",
    "x = Dense(100 , activation = \"relu\")(x)\n",
    "x = BatchNormalization()(x)\n",
    "\n",
    "func_output = Dense(1 , activation = \"sigmoid\")(x)\n",
    "                            \n",
    "lenet_model_func_api = Model(func_input , func_output , name = \"Lenet_Model\")\n",
    "lenet_model_func_api.summary()"
   ]
  },
  {
   "cell_type": "code",
   "execution_count": 9,
   "id": "cff4bc9b",
   "metadata": {},
   "outputs": [
    {
     "name": "stdout",
     "output_type": "stream",
     "text": [
      "Model: \"lenet_model\"\n",
      "_________________________________________________________________\n",
      " Layer (type)                Output Shape              Param #   \n",
      "=================================================================\n",
      " feature_extractor_1 (Featu  multiple                  872       \n",
      " reExtractor)                                                    \n",
      "                                                                 \n",
      " flatten_4 (Flatten)         multiple                  0         \n",
      "                                                                 \n",
      " dense_12 (Dense)            multiple                  2332900   \n",
      "                                                                 \n",
      " batch_normalization_18 (Ba  multiple                  400       \n",
      " tchNormalization)                                               \n",
      "                                                                 \n",
      " dense_13 (Dense)            multiple                  1010      \n",
      "                                                                 \n",
      " batch_normalization_19 (Ba  multiple                  40        \n",
      " tchNormalization)                                               \n",
      "                                                                 \n",
      " dense_14 (Dense)            multiple                  11        \n",
      "                                                                 \n",
      "=================================================================\n",
      "Total params: 2335233 (8.91 MB)\n",
      "Trainable params: 2334981 (8.91 MB)\n",
      "Non-trainable params: 252 (1008.00 Byte)\n",
      "_________________________________________________________________\n"
     ]
    }
   ],
   "source": [
    "class LenetModel(Model):\n",
    "    def __init__(self , filters , kernel_size , strides , padding , activation , pool_size):\n",
    "        super(LenetModel , self).__init__()\n",
    "        \n",
    "        self.feature_extractor = FeatureExtractor(8 , 3 , 1 , \"valid\" , \"relu\" , 2)\n",
    "        \n",
    "        self.flatten = Flatten()    \n",
    "        \n",
    "        self.dense_1 = Dense(100 , activation = \"relu\")\n",
    "        self.batch_1 = BatchNormalization()\n",
    "        \n",
    "        self.dense_2 = Dense(10 , activation = \"relu\")\n",
    "        self.batch_2 = BatchNormalization()\n",
    "        \n",
    "        self.dense_3 = Dense(1 , activation = \"sigmoid\")    \n",
    "                \n",
    "    def call(self , x , training):\n",
    "        \n",
    "        x = self.feature_extractor(x)\n",
    "        x = self.flatten(x)\n",
    "        x = self.dense_1(x)\n",
    "        x = self.batch_1(x)\n",
    "        \n",
    "        x = self.dense_2(x) \n",
    "        x = self.batch_2(x)\n",
    "        \n",
    "        x = self.dense_3(x)\n",
    "        \n",
    "        return x\n",
    "    \n",
    "lenet_sub_classed = LenetModel(8, 3, 1, \"valid\", \"relu\", 2)\n",
    "lenet_sub_classed(tf.zeros([1,224,224 , 3]))\n",
    "lenet_sub_classed.summary()\n",
    "        "
   ]
  },
  {
   "cell_type": "markdown",
   "id": "66bc4938",
   "metadata": {},
   "source": [
    "**MODEL TRAINING**"
   ]
  },
  {
   "cell_type": "code",
   "execution_count": 22,
   "id": "ba4db9d2",
   "metadata": {},
   "outputs": [],
   "source": [
    "lenet_sub_classed.compile(optimizer = Adam(learning_rate = 0.01) , loss = \"binary_crossentropy\" ,\n",
    "                        metrics = \"accuracy\")"
   ]
  },
  {
   "cell_type": "code",
   "execution_count": null,
   "id": "a84f1eff",
   "metadata": {},
   "outputs": [],
   "source": [
    "history  = lenet_sub_classed.fit(train_dataset , validation_data = val_dataset , epochs = 5 , verbose = 1)"
   ]
  },
  {
   "cell_type": "markdown",
   "id": "ac8d2b05",
   "metadata": {},
   "source": [
    "**CUSTOM LAYERS**"
   ]
  },
  {
   "cell_type": "code",
   "execution_count": 15,
   "id": "c1260b6d",
   "metadata": {},
   "outputs": [],
   "source": [
    "class NeuralearnDense(Layer):\n",
    "    def __init__(self , output_units , activation = None):\n",
    "        super(NeuralearnDense , self).__init__()\n",
    "        self.output_units = output_units\n",
    "        self.activation = activation\n",
    "    \n",
    "    def build(self, input_features_shape ):\n",
    "        self.w = self.add_weight(shape = (input_features_shape[-1] , self.output_units), initializer = \"random_normal\" , trainable = True)\n",
    "        self.b = self.add_weight(shape = (self.output_units,) , initializer = \"zeros\" , trainable = True)\n",
    "        \n",
    "    def call(self , input_features):\n",
    "        \n",
    "        pre_output = tf.matmul(input_features , self.w) + self.b\n",
    "        \n",
    "        if(self.activation == \"relu\"):\n",
    "            return tf.nn.relu(pre_output)\n",
    "        \n",
    "    \n",
    "        elif(self.activation == \"sigmoid\"):\n",
    "            return tf.math.sigmoid(pre_output)  \n",
    "        \n",
    "        \n",
    "        else:  \n",
    "            return pre_output\n",
    "        "
   ]
  },
  {
   "cell_type": "code",
   "execution_count": 16,
   "id": "4ce39cf6",
   "metadata": {},
   "outputs": [
    {
     "name": "stdout",
     "output_type": "stream",
     "text": [
      "Model: \"sequential_1\"\n",
      "_________________________________________________________________\n",
      " Layer (type)                Output Shape              Param #   \n",
      "=================================================================\n",
      " conv2d_12 (Conv2D)          (None, 222, 222, 6)       168       \n",
      "                                                                 \n",
      " batch_normalization_22 (Ba  (None, 222, 222, 6)       24        \n",
      " tchNormalization)                                               \n",
      "                                                                 \n",
      " max_pooling2d_12 (MaxPooli  (None, 111, 111, 6)       0         \n",
      " ng2D)                                                           \n",
      "                                                                 \n",
      " conv2d_13 (Conv2D)          (None, 109, 109, 16)      880       \n",
      "                                                                 \n",
      " batch_normalization_23 (Ba  (None, 109, 109, 16)      64        \n",
      " tchNormalization)                                               \n",
      "                                                                 \n",
      " max_pooling2d_13 (MaxPooli  (None, 54, 54, 16)        0         \n",
      " ng2D)                                                           \n",
      "                                                                 \n",
      " flatten_6 (Flatten)         (None, 46656)             0         \n",
      "                                                                 \n",
      " neuralearn_dense (Neuralea  (None, 1000)              46657000  \n",
      " rnDense)                                                        \n",
      "                                                                 \n",
      " batch_normalization_24 (Ba  (None, 1000)              4000      \n",
      " tchNormalization)                                               \n",
      "                                                                 \n",
      " neuralearn_dense_1 (Neural  (None, 100)               100100    \n",
      " earnDense)                                                      \n",
      "                                                                 \n",
      " batch_normalization_25 (Ba  (None, 100)               400       \n",
      " tchNormalization)                                               \n",
      "                                                                 \n",
      " neuralearn_dense_2 (Neural  (None, 1)                 101       \n",
      " earnDense)                                                      \n",
      "                                                                 \n",
      "=================================================================\n",
      "Total params: 46762737 (178.39 MB)\n",
      "Trainable params: 46760493 (178.38 MB)\n",
      "Non-trainable params: 2244 (8.77 KB)\n",
      "_________________________________________________________________\n"
     ]
    }
   ],
   "source": [
    "# SEQUENTIAL MODEL\n",
    "\n",
    "lenet_custom_model = tf.keras.Sequential([\n",
    "                            InputLayer(input_shape = (IM_SIZE , IM_SIZE , 3)),\n",
    "                            \n",
    "                            Conv2D(filters = 6 , kernel_size = 3 , strides = 1 , padding = \"valid\" , \n",
    "                                   activation = \"relu\"),\n",
    "                            BatchNormalization(),\n",
    "                            MaxPool2D(pool_size= 2 , strides = 2),\n",
    "                            \n",
    "                            Conv2D(filters = 16 , kernel_size = 3 , strides = 1 , padding = \"valid\" , \n",
    "                                   activation = \"relu\"),                                                      \n",
    "                            BatchNormalization(),\n",
    "                            MaxPool2D(pool_size= 2 , strides = 2),\n",
    "                            \n",
    "                            Flatten(),\n",
    "                            \n",
    "                            NeuralearnDense(1000 , activation = \"relu\"),\n",
    "                            BatchNormalization(),\n",
    "\n",
    "                            NeuralearnDense(100 , activation = \"relu\"),\n",
    "                            BatchNormalization(),\n",
    "\n",
    "                            NeuralearnDense(1 , activation = \"sigmoid\"),\n",
    "                            \n",
    "])\n",
    "lenet_custom_model.summary()"
   ]
  },
  {
   "cell_type": "code",
   "execution_count": null,
   "id": "554123db",
   "metadata": {},
   "outputs": [],
   "source": [
    "lenet_custom_model.compile(optimizer = Adam(learning_rate = 0.01) , loss = \"binary_crossentropy\" ,\n",
    "                        metrics = \"accuracy\")"
   ]
  },
  {
   "cell_type": "code",
   "execution_count": null,
   "id": "1d1dcf64",
   "metadata": {},
   "outputs": [],
   "source": [
    "history  = lenet_custom_model.fit(train_dataset , validation_data = val_dataset , epochs = 5 , verbose = 1)   "
   ]
  },
  {
   "cell_type": "code",
   "execution_count": null,
   "id": "b80ccba4",
   "metadata": {},
   "outputs": [],
   "source": []
  }
 ],
 "metadata": {
  "kernelspec": {
   "display_name": ".venv",
   "language": "python",
   "name": "python3"
  },
  "language_info": {
   "codemirror_mode": {
    "name": "ipython",
    "version": 3
   },
   "file_extension": ".py",
   "mimetype": "text/x-python",
   "name": "python",
   "nbconvert_exporter": "python",
   "pygments_lexer": "ipython3",
   "version": "3.11.9"
  }
 },
 "nbformat": 4,
 "nbformat_minor": 5
}
